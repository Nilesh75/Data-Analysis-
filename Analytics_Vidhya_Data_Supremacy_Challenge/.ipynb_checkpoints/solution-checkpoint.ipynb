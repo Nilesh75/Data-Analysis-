{
 "cells": [
  {
   "cell_type": "markdown",
   "metadata": {},
   "source": [
    "# Data Supremacy Challenge\n",
    "This solution is part of \"The Data Supremacy\" challenge organized by Analytics Vidhya. The challenge involves building a model which can predict the probability that an enrollee is looking for a job given his/her current credentials/demographics/experience"
   ]
  },
  {
   "cell_type": "code",
   "execution_count": 316,
   "metadata": {},
   "outputs": [],
   "source": [
    "# data analysis and wrangling\n",
    "import pandas as pd\n",
    "import numpy as np\n",
    "import random as rnd\n",
    "\n",
    "# visualization\n",
    "import seaborn as sns\n",
    "import matplotlib.pyplot as plt\n",
    "%matplotlib inline\n",
    "\n",
    "# machine learning\n",
    "from sklearn.linear_model import LinearRegression\n",
    "from sklearn.svm import SVR, LinearSVR\n",
    "from sklearn.ensemble import RandomForestRegressor\n",
    "from sklearn.neighbors import KNeighborsRegressor\n",
    "from sklearn.naive_bayes import GaussianNB\n",
    "from sklearn.linear_model import Perceptron\n",
    "from sklearn.linear_model import SGDClassifier\n",
    "from sklearn.tree import DecisionTreeClassifier\n",
    "from sklearn.discriminant_analysis import LinearDiscriminantAnalysis\n",
    "\n",
    "from sklearn.linear_model import LogisticRegression\n",
    "from sklearn.svm import SVC, LinearSVC\n",
    "from sklearn.ensemble import RandomForestClassifier\n",
    "from sklearn.ensemble import GradientBoostingClassifier\n",
    "from sklearn.neighbors import KNeighborsClassifier\n",
    "\n",
    "from sklearn.metrics import classification_report\n",
    "from sklearn.metrics import confusion_matrix\n",
    "from sklearn.metrics import accuracy_score\n",
    "from sklearn.metrics import r2_score\n",
    "from sklearn.preprocessing import LabelEncoder\n",
    "from sklearn.model_selection import GridSearchCV, train_test_split, cross_val_score\n",
    "from sklearn import model_selection"
   ]
  },
  {
   "cell_type": "markdown",
   "metadata": {},
   "source": [
    "## 1. Loading and first look on the data"
   ]
  },
  {
   "cell_type": "code",
   "execution_count": 317,
   "metadata": {},
   "outputs": [
    {
     "data": {
      "text/html": [
       "<div>\n",
       "<style scoped>\n",
       "    .dataframe tbody tr th:only-of-type {\n",
       "        vertical-align: middle;\n",
       "    }\n",
       "\n",
       "    .dataframe tbody tr th {\n",
       "        vertical-align: top;\n",
       "    }\n",
       "\n",
       "    .dataframe thead th {\n",
       "        text-align: right;\n",
       "    }\n",
       "</style>\n",
       "<table border=\"1\" class=\"dataframe\">\n",
       "  <thead>\n",
       "    <tr style=\"text-align: right;\">\n",
       "      <th></th>\n",
       "      <th>enrollee_id</th>\n",
       "      <th>city</th>\n",
       "      <th>city_development_index</th>\n",
       "      <th>gender</th>\n",
       "      <th>relevent_experience</th>\n",
       "      <th>enrolled_university</th>\n",
       "      <th>enrolled_university.1</th>\n",
       "      <th>major_discipline</th>\n",
       "      <th>experience</th>\n",
       "      <th>company_size</th>\n",
       "      <th>company_type</th>\n",
       "      <th>last_new_job</th>\n",
       "      <th>training_hours</th>\n",
       "      <th>target</th>\n",
       "    </tr>\n",
       "  </thead>\n",
       "  <tbody>\n",
       "    <tr>\n",
       "      <th>0</th>\n",
       "      <td>23798</td>\n",
       "      <td>city_149</td>\n",
       "      <td>0.689</td>\n",
       "      <td>Male</td>\n",
       "      <td>Has relevent experience</td>\n",
       "      <td>no_enrollment</td>\n",
       "      <td>Graduate</td>\n",
       "      <td>STEM</td>\n",
       "      <td>3</td>\n",
       "      <td>100-500</td>\n",
       "      <td>Pvt Ltd</td>\n",
       "      <td>1</td>\n",
       "      <td>106</td>\n",
       "      <td>0</td>\n",
       "    </tr>\n",
       "    <tr>\n",
       "      <th>1</th>\n",
       "      <td>29166</td>\n",
       "      <td>city_83</td>\n",
       "      <td>0.923</td>\n",
       "      <td>Male</td>\n",
       "      <td>Has relevent experience</td>\n",
       "      <td>no_enrollment</td>\n",
       "      <td>Graduate</td>\n",
       "      <td>STEM</td>\n",
       "      <td>14</td>\n",
       "      <td>&lt;10</td>\n",
       "      <td>Funded Startup</td>\n",
       "      <td>1</td>\n",
       "      <td>69</td>\n",
       "      <td>0</td>\n",
       "    </tr>\n",
       "    <tr>\n",
       "      <th>2</th>\n",
       "      <td>46</td>\n",
       "      <td>city_16</td>\n",
       "      <td>0.910</td>\n",
       "      <td>NaN</td>\n",
       "      <td>Has relevent experience</td>\n",
       "      <td>no_enrollment</td>\n",
       "      <td>Graduate</td>\n",
       "      <td>STEM</td>\n",
       "      <td>6</td>\n",
       "      <td>50-99</td>\n",
       "      <td>Public Sector</td>\n",
       "      <td>2</td>\n",
       "      <td>4</td>\n",
       "      <td>0</td>\n",
       "    </tr>\n",
       "    <tr>\n",
       "      <th>3</th>\n",
       "      <td>18527</td>\n",
       "      <td>city_64</td>\n",
       "      <td>0.666</td>\n",
       "      <td>Male</td>\n",
       "      <td>Has relevent experience</td>\n",
       "      <td>no_enrollment</td>\n",
       "      <td>Graduate</td>\n",
       "      <td>STEM</td>\n",
       "      <td>14</td>\n",
       "      <td>50-99</td>\n",
       "      <td>Pvt Ltd</td>\n",
       "      <td>1</td>\n",
       "      <td>26</td>\n",
       "      <td>0</td>\n",
       "    </tr>\n",
       "    <tr>\n",
       "      <th>4</th>\n",
       "      <td>21751</td>\n",
       "      <td>city_100</td>\n",
       "      <td>0.887</td>\n",
       "      <td>NaN</td>\n",
       "      <td>No relevent experience</td>\n",
       "      <td>no_enrollment</td>\n",
       "      <td>Masters</td>\n",
       "      <td>STEM</td>\n",
       "      <td>8</td>\n",
       "      <td>NaN</td>\n",
       "      <td>NaN</td>\n",
       "      <td>2</td>\n",
       "      <td>88</td>\n",
       "      <td>1</td>\n",
       "    </tr>\n",
       "  </tbody>\n",
       "</table>\n",
       "</div>"
      ],
      "text/plain": [
       "   enrollee_id      city  city_development_index gender  \\\n",
       "0        23798  city_149                   0.689   Male   \n",
       "1        29166   city_83                   0.923   Male   \n",
       "2           46   city_16                   0.910    NaN   \n",
       "3        18527   city_64                   0.666   Male   \n",
       "4        21751  city_100                   0.887    NaN   \n",
       "\n",
       "       relevent_experience enrolled_university enrolled_university.1  \\\n",
       "0  Has relevent experience       no_enrollment              Graduate   \n",
       "1  Has relevent experience       no_enrollment              Graduate   \n",
       "2  Has relevent experience       no_enrollment              Graduate   \n",
       "3  Has relevent experience       no_enrollment              Graduate   \n",
       "4   No relevent experience       no_enrollment               Masters   \n",
       "\n",
       "  major_discipline experience company_size    company_type last_new_job  \\\n",
       "0             STEM          3      100-500         Pvt Ltd            1   \n",
       "1             STEM         14          <10  Funded Startup            1   \n",
       "2             STEM          6        50-99   Public Sector            2   \n",
       "3             STEM         14        50-99         Pvt Ltd            1   \n",
       "4             STEM          8          NaN             NaN            2   \n",
       "\n",
       "   training_hours  target  \n",
       "0             106       0  \n",
       "1              69       0  \n",
       "2               4       0  \n",
       "3              26       0  \n",
       "4              88       1  "
      ]
     },
     "execution_count": 317,
     "metadata": {},
     "output_type": "execute_result"
    }
   ],
   "source": [
    "train_df = pd.read_csv('train.csv')\n",
    "test_df = pd.read_csv('test.csv')\n",
    "train_df.head()"
   ]
  },
  {
   "cell_type": "code",
   "execution_count": 318,
   "metadata": {},
   "outputs": [
    {
     "data": {
      "text/plain": [
       "Index(['enrollee_id', 'city', 'city_development_index', 'gender',\n",
       "       'relevent_experience', 'enrolled_university', 'enrolled_university.1',\n",
       "       'major_discipline', 'experience', 'company_size', 'company_type',\n",
       "       'last_new_job', 'training_hours', 'target'],\n",
       "      dtype='object')"
      ]
     },
     "execution_count": 318,
     "metadata": {},
     "output_type": "execute_result"
    }
   ],
   "source": [
    "train_df.columns"
   ]
  },
  {
   "cell_type": "code",
   "execution_count": 319,
   "metadata": {},
   "outputs": [
    {
     "name": "stdout",
     "output_type": "stream",
     "text": [
      "<class 'pandas.core.frame.DataFrame'>\n",
      "RangeIndex: 18359 entries, 0 to 18358\n",
      "Data columns (total 14 columns):\n",
      "enrollee_id               18359 non-null int64\n",
      "city                      18359 non-null object\n",
      "city_development_index    18359 non-null float64\n",
      "gender                    14261 non-null object\n",
      "relevent_experience       18359 non-null object\n",
      "enrolled_university       18017 non-null object\n",
      "enrolled_university.1     17902 non-null object\n",
      "major_discipline          15521 non-null object\n",
      "experience                18300 non-null object\n",
      "company_size              13580 non-null object\n",
      "company_type              13320 non-null object\n",
      "last_new_job              17992 non-null object\n",
      "training_hours            18359 non-null int64\n",
      "target                    18359 non-null int64\n",
      "dtypes: float64(1), int64(3), object(10)\n",
      "memory usage: 1.3+ MB\n",
      "________________________________________________________________________________________________________________________\n",
      "<class 'pandas.core.frame.DataFrame'>\n",
      "RangeIndex: 15021 entries, 0 to 15020\n",
      "Data columns (total 13 columns):\n",
      "enrollee_id               15021 non-null int64\n",
      "city                      15021 non-null object\n",
      "city_development_index    15021 non-null float64\n",
      "gender                    11633 non-null object\n",
      "relevent_experience       15021 non-null object\n",
      "enrolled_university       14742 non-null object\n",
      "enrolled_university.1     14626 non-null object\n",
      "major_discipline          12628 non-null object\n",
      "experience                14977 non-null object\n",
      "company_size              10970 non-null object\n",
      "company_type              10691 non-null object\n",
      "last_new_job              14717 non-null object\n",
      "training_hours            15021 non-null int64\n",
      "dtypes: float64(1), int64(2), object(10)\n",
      "memory usage: 938.9+ KB\n"
     ]
    }
   ],
   "source": [
    "train_df.info()\n",
    "print('_'*120)\n",
    "test_df.info()"
   ]
  },
  {
   "cell_type": "markdown",
   "metadata": {},
   "source": [
    "**Seems like following features have missing values:**\n",
    "-  gender\n",
    "-  enrolled_university\n",
    "-  enrolled_university.1 \n",
    "-  major_discipline \n",
    "-  experience\n",
    "-  company_size \n",
    "-  company_type \n",
    "-  last_new_job\n",
    "\n",
    "Also the enrollee_id feature is not relevant with target value so I may drop it later"
   ]
  },
  {
   "cell_type": "code",
   "execution_count": 320,
   "metadata": {},
   "outputs": [
    {
     "data": {
      "text/html": [
       "<div>\n",
       "<style scoped>\n",
       "    .dataframe tbody tr th:only-of-type {\n",
       "        vertical-align: middle;\n",
       "    }\n",
       "\n",
       "    .dataframe tbody tr th {\n",
       "        vertical-align: top;\n",
       "    }\n",
       "\n",
       "    .dataframe thead th {\n",
       "        text-align: right;\n",
       "    }\n",
       "</style>\n",
       "<table border=\"1\" class=\"dataframe\">\n",
       "  <thead>\n",
       "    <tr style=\"text-align: right;\">\n",
       "      <th></th>\n",
       "      <th>enrollee_id</th>\n",
       "      <th>city_development_index</th>\n",
       "      <th>training_hours</th>\n",
       "      <th>target</th>\n",
       "    </tr>\n",
       "  </thead>\n",
       "  <tbody>\n",
       "    <tr>\n",
       "      <th>count</th>\n",
       "      <td>18359.000000</td>\n",
       "      <td>18359.000000</td>\n",
       "      <td>18359.000000</td>\n",
       "      <td>18359.000000</td>\n",
       "    </tr>\n",
       "    <tr>\n",
       "      <th>mean</th>\n",
       "      <td>16729.360096</td>\n",
       "      <td>0.847140</td>\n",
       "      <td>65.899014</td>\n",
       "      <td>0.132088</td>\n",
       "    </tr>\n",
       "    <tr>\n",
       "      <th>std</th>\n",
       "      <td>9643.749725</td>\n",
       "      <td>0.110189</td>\n",
       "      <td>60.885300</td>\n",
       "      <td>0.338595</td>\n",
       "    </tr>\n",
       "    <tr>\n",
       "      <th>min</th>\n",
       "      <td>1.000000</td>\n",
       "      <td>0.448000</td>\n",
       "      <td>1.000000</td>\n",
       "      <td>0.000000</td>\n",
       "    </tr>\n",
       "    <tr>\n",
       "      <th>25%</th>\n",
       "      <td>8378.500000</td>\n",
       "      <td>0.796000</td>\n",
       "      <td>23.000000</td>\n",
       "      <td>0.000000</td>\n",
       "    </tr>\n",
       "    <tr>\n",
       "      <th>50%</th>\n",
       "      <td>16706.000000</td>\n",
       "      <td>0.910000</td>\n",
       "      <td>47.000000</td>\n",
       "      <td>0.000000</td>\n",
       "    </tr>\n",
       "    <tr>\n",
       "      <th>75%</th>\n",
       "      <td>25148.500000</td>\n",
       "      <td>0.920000</td>\n",
       "      <td>89.000000</td>\n",
       "      <td>0.000000</td>\n",
       "    </tr>\n",
       "    <tr>\n",
       "      <th>max</th>\n",
       "      <td>33380.000000</td>\n",
       "      <td>0.949000</td>\n",
       "      <td>336.000000</td>\n",
       "      <td>1.000000</td>\n",
       "    </tr>\n",
       "  </tbody>\n",
       "</table>\n",
       "</div>"
      ],
      "text/plain": [
       "        enrollee_id  city_development_index  training_hours        target\n",
       "count  18359.000000            18359.000000    18359.000000  18359.000000\n",
       "mean   16729.360096                0.847140       65.899014      0.132088\n",
       "std     9643.749725                0.110189       60.885300      0.338595\n",
       "min        1.000000                0.448000        1.000000      0.000000\n",
       "25%     8378.500000                0.796000       23.000000      0.000000\n",
       "50%    16706.000000                0.910000       47.000000      0.000000\n",
       "75%    25148.500000                0.920000       89.000000      0.000000\n",
       "max    33380.000000                0.949000      336.000000      1.000000"
      ]
     },
     "execution_count": 320,
     "metadata": {},
     "output_type": "execute_result"
    }
   ],
   "source": [
    "train_df.describe()"
   ]
  },
  {
   "cell_type": "code",
   "execution_count": 321,
   "metadata": {},
   "outputs": [
    {
     "data": {
      "text/html": [
       "<div>\n",
       "<style scoped>\n",
       "    .dataframe tbody tr th:only-of-type {\n",
       "        vertical-align: middle;\n",
       "    }\n",
       "\n",
       "    .dataframe tbody tr th {\n",
       "        vertical-align: top;\n",
       "    }\n",
       "\n",
       "    .dataframe thead th {\n",
       "        text-align: right;\n",
       "    }\n",
       "</style>\n",
       "<table border=\"1\" class=\"dataframe\">\n",
       "  <thead>\n",
       "    <tr style=\"text-align: right;\">\n",
       "      <th></th>\n",
       "      <th>city</th>\n",
       "      <th>gender</th>\n",
       "      <th>relevent_experience</th>\n",
       "      <th>enrolled_university</th>\n",
       "      <th>enrolled_university.1</th>\n",
       "      <th>major_discipline</th>\n",
       "      <th>experience</th>\n",
       "      <th>company_size</th>\n",
       "      <th>company_type</th>\n",
       "      <th>last_new_job</th>\n",
       "    </tr>\n",
       "  </thead>\n",
       "  <tbody>\n",
       "    <tr>\n",
       "      <th>count</th>\n",
       "      <td>18359</td>\n",
       "      <td>14261</td>\n",
       "      <td>18359</td>\n",
       "      <td>18017</td>\n",
       "      <td>17902</td>\n",
       "      <td>15521</td>\n",
       "      <td>18300</td>\n",
       "      <td>13580</td>\n",
       "      <td>13320</td>\n",
       "      <td>17992</td>\n",
       "    </tr>\n",
       "    <tr>\n",
       "      <th>unique</th>\n",
       "      <td>123</td>\n",
       "      <td>3</td>\n",
       "      <td>2</td>\n",
       "      <td>3</td>\n",
       "      <td>5</td>\n",
       "      <td>6</td>\n",
       "      <td>22</td>\n",
       "      <td>8</td>\n",
       "      <td>6</td>\n",
       "      <td>6</td>\n",
       "    </tr>\n",
       "    <tr>\n",
       "      <th>top</th>\n",
       "      <td>city_103</td>\n",
       "      <td>Male</td>\n",
       "      <td>Has relevent experience</td>\n",
       "      <td>no_enrollment</td>\n",
       "      <td>Graduate</td>\n",
       "      <td>STEM</td>\n",
       "      <td>&gt;20</td>\n",
       "      <td>50-99</td>\n",
       "      <td>Pvt Ltd</td>\n",
       "      <td>1</td>\n",
       "    </tr>\n",
       "    <tr>\n",
       "      <th>freq</th>\n",
       "      <td>4358</td>\n",
       "      <td>12884</td>\n",
       "      <td>13596</td>\n",
       "      <td>13659</td>\n",
       "      <td>10769</td>\n",
       "      <td>13738</td>\n",
       "      <td>3437</td>\n",
       "      <td>3120</td>\n",
       "      <td>10051</td>\n",
       "      <td>7567</td>\n",
       "    </tr>\n",
       "  </tbody>\n",
       "</table>\n",
       "</div>"
      ],
      "text/plain": [
       "            city gender      relevent_experience enrolled_university  \\\n",
       "count      18359  14261                    18359               18017   \n",
       "unique       123      3                        2                   3   \n",
       "top     city_103   Male  Has relevent experience       no_enrollment   \n",
       "freq        4358  12884                    13596               13659   \n",
       "\n",
       "       enrolled_university.1 major_discipline experience company_size  \\\n",
       "count                  17902            15521      18300        13580   \n",
       "unique                     5                6         22            8   \n",
       "top                 Graduate             STEM        >20        50-99   \n",
       "freq                   10769            13738       3437         3120   \n",
       "\n",
       "       company_type last_new_job  \n",
       "count         13320        17992  \n",
       "unique            6            6  \n",
       "top         Pvt Ltd            1  \n",
       "freq          10051         7567  "
      ]
     },
     "execution_count": 321,
     "metadata": {},
     "output_type": "execute_result"
    }
   ],
   "source": [
    "train_df.describe(include=['O']) #to describe categorical data"
   ]
  },
  {
   "cell_type": "markdown",
   "metadata": {},
   "source": [
    "# 2. Analysis by pivoting features"
   ]
  },
  {
   "cell_type": "markdown",
   "metadata": {},
   "source": [
    "## i. Numerical Features"
   ]
  },
  {
   "cell_type": "markdown",
   "metadata": {},
   "source": [
    "###  city_development_index"
   ]
  },
  {
   "cell_type": "code",
   "execution_count": 322,
   "metadata": {},
   "outputs": [
    {
     "data": {
      "image/png": "[encoded data removed]",
      "text/plain": [
       "<matplotlib.figure.Figure at 0xe858ef0>"
      ]
     },
     "metadata": {},
     "output_type": "display_data"
    },
    {
     "name": "stdout",
     "output_type": "stream",
     "text": [
      "  city_dev_index_band  mean_target_value\n",
      "0      (0.447, 0.548]           0.319672\n",
      "1      (0.548, 0.648]           0.258317\n",
      "2      (0.648, 0.749]           0.156797\n",
      "3      (0.749, 0.849]           0.127861\n",
      "4      (0.849, 0.949]           0.107742\n"
     ]
    }
   ],
   "source": [
    "plt.figure(figsize=(9,5))\n",
    "\n",
    "#as city_dev_index is continuous-numerical type we can split it into different bands and then analyze its trend with the target \n",
    "#values.\n",
    "#First I made a new dataframe for this analysis\n",
    "city_dev_cut = pd.cut(train_df['city_development_index'], 5)\n",
    "city_dev_cut1 = pd.DataFrame({'city_dev_index_band':city_dev_cut,'mean_target_value':train_df['target']})\n",
    "city_dev = city_dev_cut1.groupby('city_dev_index_band', as_index=False).mean().\\\n",
    "sort_values(by='mean_target_value',ascending=False)\n",
    "\n",
    "#then I just plotted it using seaborn\n",
    "sns.pointplot(x = city_dev['city_dev_index_band'].values, y=city_dev['mean_target_value'].values)\n",
    "plt.xlabel('city_dev_index_band')\n",
    "plt.ylabel('mean_target_value')\n",
    "plt.show()\n",
    "print(city_dev)"
   ]
  },
  {
   "cell_type": "markdown",
   "metadata": {},
   "source": [
    "**Conclusion**= The city_dev_index negatively correlated with the target value and it shows a really strong trend with it"
   ]
  },
  {
   "cell_type": "markdown",
   "metadata": {},
   "source": [
    "### training hours"
   ]
  },
  {
   "cell_type": "code",
   "execution_count": 323,
   "metadata": {},
   "outputs": [
    {
     "data": {
      "image/png": "[encoded data removed]",
      "text/plain": [
       "<matplotlib.figure.Figure at 0xeb4f030>"
      ]
     },
     "metadata": {},
     "output_type": "display_data"
    },
    {
     "name": "stdout",
     "output_type": "stream",
     "text": [
      "           tr_hrs_band  mean_target_value\n",
      "10  (280.167, 308.083]           0.179104\n",
      "1     (28.917, 56.833]           0.136740\n",
      "6     (168.5, 196.417]           0.134897\n",
      "5     (140.583, 168.5]           0.134346\n",
      "7   (196.417, 224.333]           0.133333\n",
      "2      (56.833, 84.75]           0.132987\n",
      "4   (112.667, 140.583]           0.132867\n",
      "0      (0.665, 28.917]           0.131647\n",
      "9    (252.25, 280.167]           0.125926\n",
      "3     (84.75, 112.667]           0.121045\n",
      "11    (308.083, 336.0]           0.105960\n",
      "8    (224.333, 252.25]           0.080645\n"
     ]
    }
   ],
   "source": [
    "#for training hours the analysis is same as above\n",
    "plt.figure(figsize=(15,5))\n",
    "\n",
    "tr_hrs_cut = pd.cut(train_df['training_hours'], 12)\n",
    "tr_hrs_cut1 = pd.DataFrame({'tr_hrs_band':tr_hrs_cut,'mean_target_value':train_df['target']})\n",
    "tr_hrs = tr_hrs_cut1.groupby('tr_hrs_band', as_index=False).mean().\\\n",
    "sort_values(by='mean_target_value',ascending=False)\n",
    "\n",
    "sns.pointplot(x = tr_hrs['tr_hrs_band'].values, y=tr_hrs['mean_target_value'].values)\n",
    "plt.xlabel('tr_hrs_band')\n",
    "plt.ylabel('mean_target_value')\n",
    "plt.show()\n",
    "print(tr_hrs)"
   ]
  },
  {
   "cell_type": "markdown",
   "metadata": {},
   "source": [
    "**Conclusion**= The training_hours shows a rather weird trend with the target value specifically for enrollees with high number of training hours seems to have equal chance of looking for a job. In any case there **no clear correlation of this feature with target value**"
   ]
  },
  {
   "cell_type": "markdown",
   "metadata": {},
   "source": [
    "## ii. Categorical Features "
   ]
  },
  {
   "cell_type": "markdown",
   "metadata": {},
   "source": [
    "### gender"
   ]
  },
  {
   "cell_type": "code",
   "execution_count": 324,
   "metadata": {},
   "outputs": [
    {
     "name": "stdout",
     "output_type": "stream",
     "text": [
      "   gender  target\n",
      "1    Male   12884\n",
      "0  Female    1188\n",
      "2   Other     189\n",
      "______________________________\n",
      "   gender    target\n",
      "2   Other  0.153439\n",
      "0  Female  0.150673\n",
      "1    Male  0.122477\n"
     ]
    }
   ],
   "source": [
    "print(train_df[['gender', 'target']].groupby(['gender'], as_index=False).count().sort_values(by='target', ascending=False))\n",
    "print('_'*30)\n",
    "print(train_df[['gender', 'target']].groupby(['gender'], as_index=False).mean().sort_values(by='target', ascending=False))"
   ]
  },
  {
   "cell_type": "markdown",
   "metadata": {},
   "source": [
    "**Conclusion**= The missing values in gender seems mostly of the type 'Female' as they have comparable mean target value with the Female enrollees "
   ]
  },
  {
   "cell_type": "markdown",
   "metadata": {},
   "source": [
    "###  relevent_experience\t"
   ]
  },
  {
   "cell_type": "code",
   "execution_count": 325,
   "metadata": {},
   "outputs": [
    {
     "name": "stdout",
     "output_type": "stream",
     "text": [
      "       relevent_experience  target\n",
      "0  Has relevent experience   13596\n",
      "1   No relevent experience    4763\n",
      "__________________________________________________\n",
      "       relevent_experience   target\n",
      "1   No relevent experience  0.17447\n",
      "0  Has relevent experience  0.11724\n"
     ]
    }
   ],
   "source": [
    "print(train_df[['relevent_experience', 'target']].groupby(['relevent_experience'], as_index=False).count()\\\n",
    "      .sort_values(by='target', ascending=False))\n",
    "print('_'*50)\n",
    "print(train_df[['relevent_experience', 'target']].groupby(['relevent_experience'], as_index=False).mean()\\\n",
    "      .sort_values(by='target', ascending=False))"
   ]
  },
  {
   "cell_type": "markdown",
   "metadata": {},
   "source": [
    "**Conclusion** = Those with no relevent exp seems to be more interested in the job :P. Later I will convert these feature values into numeric categorical variable"
   ]
  },
  {
   "cell_type": "markdown",
   "metadata": {},
   "source": [
    "### enrolled_university"
   ]
  },
  {
   "cell_type": "code",
   "execution_count": 326,
   "metadata": {},
   "outputs": [
    {
     "name": "stdout",
     "output_type": "stream",
     "text": [
      "  enrolled_university  target\n",
      "2       no_enrollment   13659\n",
      "0    Full time course    3187\n",
      "1    Part time course    1171\n",
      "__________________________________________________\n",
      "  enrolled_university    target\n",
      "0    Full time course  0.190461\n",
      "1    Part time course  0.148591\n",
      "2       no_enrollment  0.116260\n"
     ]
    }
   ],
   "source": [
    "print(train_df[['enrolled_university', 'target']].groupby(['enrolled_university'], as_index=False).count()\\\n",
    "      .sort_values(by='target', ascending=False))\n",
    "print('_'*50)\n",
    "print(train_df[['enrolled_university', 'target']].groupby(['enrolled_university'], as_index=False).mean()\\\n",
    "      .sort_values(by='target', ascending=False))"
   ]
  },
  {
   "cell_type": "markdown",
   "metadata": {},
   "source": [
    "**Conclusion** = More the education more the need for a job. A positive correlation can be seen from this trend. Later I will convert these feature values into numeric categorical variable"
   ]
  },
  {
   "cell_type": "markdown",
   "metadata": {},
   "source": [
    "### enrolled_university.1 (type)"
   ]
  },
  {
   "cell_type": "code",
   "execution_count": 327,
   "metadata": {},
   "outputs": [
    {
     "name": "stdout",
     "output_type": "stream",
     "text": [
      "  enrolled_university.1  target\n",
      "0              Graduate   10769\n",
      "2               Masters    4319\n",
      "1           High School    2032\n",
      "3                   Phd     459\n",
      "4        Primary School     323\n",
      "__________________________________________________\n",
      "  enrolled_university.1    target\n",
      "0              Graduate  0.142260\n",
      "2               Masters  0.118777\n",
      "1           High School  0.118602\n",
      "3                   Phd  0.115468\n",
      "4        Primary School  0.077399\n"
     ]
    }
   ],
   "source": [
    "print(train_df[['enrolled_university.1', 'target']].groupby(['enrolled_university.1'], as_index=False).count()\\\n",
    "      .sort_values(by='target', ascending=False))\n",
    "print('_'*50)\n",
    "print(train_df[['enrolled_university.1', 'target']].groupby(['enrolled_university.1'], as_index=False).mean()\\\n",
    "      .sort_values(by='target', ascending=False))"
   ]
  },
  {
   "cell_type": "markdown",
   "metadata": {},
   "source": [
    "**Conclusion** = Seems like education really plays a role in job demand by enrollee. A positive correlation can be seen from this trend. Later I will convert these feature values into numeric categorical variable"
   ]
  },
  {
   "cell_type": "markdown",
   "metadata": {},
   "source": [
    "### major_discipline\t "
   ]
  },
  {
   "cell_type": "code",
   "execution_count": 328,
   "metadata": {},
   "outputs": [
    {
     "name": "stdout",
     "output_type": "stream",
     "text": [
      "  major_discipline  target\n",
      "5             STEM   13738\n",
      "2       Humanities     688\n",
      "4            Other     343\n",
      "1  Business Degree     307\n",
      "0             Arts     239\n",
      "3         No Major     206\n",
      "__________________________________________________\n",
      "  major_discipline    target\n",
      "5             STEM  0.136628\n",
      "2       Humanities  0.135174\n",
      "1  Business Degree  0.127036\n",
      "4            Other  0.107872\n",
      "0             Arts  0.104603\n",
      "3         No Major  0.097087\n"
     ]
    }
   ],
   "source": [
    "print(train_df[['major_discipline', 'target']].groupby(['major_discipline'], as_index=False).count()\\\n",
    "      .sort_values(by='target', ascending=False))   #train_df.major_discipline.value_counts() this can also be used\n",
    "print('_'*50)\n",
    "print(train_df[['major_discipline', 'target']].groupby(['major_discipline'], as_index=False).mean()\\\n",
    "      .sort_values(by='target', ascending=False))"
   ]
  },
  {
   "cell_type": "markdown",
   "metadata": {},
   "source": [
    "**Conclusion** = Relevent major_discipline people shows more interest as expected but overall there is very less correlation"
   ]
  },
  {
   "cell_type": "markdown",
   "metadata": {},
   "source": [
    "### experience "
   ]
  },
  {
   "cell_type": "code",
   "execution_count": 329,
   "metadata": {},
   "outputs": [
    {
     "name": "stdout",
     "output_type": "stream",
     "text": [
      "   experience  target\n",
      "21        >20    3437\n",
      "15          5    1309\n",
      "14          4    1250\n",
      "13          3    1159\n",
      "16          6    1125\n",
      "11          2     992\n",
      "19          9     979\n",
      "1          10     967\n",
      "17          7     950\n",
      "18          8     755\n",
      "6          15     695\n",
      "2          11     667\n",
      "5          14     602\n",
      "7          16     549\n",
      "3          12     497\n",
      "0           1     452\n",
      "20         <1     416\n",
      "4          13     412\n",
      "8          17     347\n",
      "10         19     308\n",
      "9          18     286\n",
      "12         20     146\n",
      "__________________________________________________\n",
      "   experience    target\n",
      "20         <1  0.242788\n",
      "0           1  0.238938\n",
      "11          2  0.172379\n",
      "14          4  0.168800\n",
      "13          3  0.164797\n",
      "17          7  0.146316\n",
      "15          5  0.140565\n",
      "16          6  0.136000\n",
      "5          14  0.124585\n",
      "2          11  0.124438\n",
      "1          10  0.124095\n",
      "19          9  0.120531\n",
      "4          13  0.116505\n",
      "18          8  0.113907\n",
      "6          15  0.110791\n",
      "12         20  0.109589\n",
      "10         19  0.107143\n",
      "3          12  0.104628\n",
      "7          16  0.103825\n",
      "8          17  0.097983\n",
      "21        >20  0.096014\n",
      "9          18  0.090909\n"
     ]
    }
   ],
   "source": [
    "print(train_df[['experience', 'target']].groupby(['experience'], as_index=False).count()\\\n",
    "      .sort_values(by='target', ascending=False))\n",
    "print('_'*50)\n",
    "print(train_df[['experience', 'target']].groupby(['experience'], as_index=False).mean()\\\n",
    "      .sort_values(by='target', ascending=False))"
   ]
  },
  {
   "cell_type": "code",
   "execution_count": 330,
   "metadata": {},
   "outputs": [
    {
     "data": {
      "image/png": "[encoded data removed]",
      "text/plain": [
       "<matplotlib.figure.Figure at 0xee18d50>"
      ]
     },
     "metadata": {},
     "output_type": "display_data"
    },
    {
     "name": "stdout",
     "output_type": "stream",
     "text": [
      "        exp_band  mean_target_value\n",
      "0  (-0.021, 3.0]           0.189409\n",
      "1     (3.0, 6.0]           0.148751\n",
      "2     (6.0, 9.0]           0.127794\n",
      "3    (9.0, 12.0]           0.119662\n",
      "4   (12.0, 15.0]           0.117028\n",
      "5   (15.0, 18.0]           0.098985\n",
      "6   (18.0, 21.0]           0.097404\n"
     ]
    }
   ],
   "source": [
    "train_df1 = train_df.copy() \n",
    "dict_ = {}\n",
    "for i in range(21):\n",
    "    dict_[str(i)] = int(i)\n",
    "dict_['>20'] = 21\n",
    "dict_['<1'] = 0\n",
    "dict_['Other'] = 1.5\n",
    "train_df1['experience'] = train_df1['experience'].map(dict_).fillna(0).astype(int)\n",
    "\n",
    "plt.figure(figsize=(15,5))\n",
    "\n",
    "exp_cut = pd.cut(train_df1['experience'], 7)\n",
    "exp_cut1 = pd.DataFrame({'exp_band':exp_cut,'mean_target_value':train_df1['target']})\n",
    "exp = exp_cut1.groupby('exp_band', as_index=False).mean().\\\n",
    "sort_values(by='mean_target_value',ascending=False)\n",
    "\n",
    "sns.pointplot(x = exp['exp_band'].values, y=exp['mean_target_value'].values)\n",
    "plt.xlabel('exp_band')\n",
    "plt.ylabel('mean_target_value')\n",
    "plt.show()\n",
    "print(exp)"
   ]
  },
  {
   "cell_type": "markdown",
   "metadata": {},
   "source": [
    "**Conclusion**= The <1 will become 0 and for Other category of experience from its nature it seems to around 1-2 years later we will create experience bands so lets make 'Other' = 1.5. Also the negative correlation can be seen here."
   ]
  },
  {
   "cell_type": "markdown",
   "metadata": {},
   "source": [
    "### company_size\t "
   ]
  },
  {
   "cell_type": "code",
   "execution_count": 331,
   "metadata": {},
   "outputs": [
    {
     "name": "stdout",
     "output_type": "stream",
     "text": [
      "  company_size  target\n",
      "4        50-99    3120\n",
      "1      100-500    2698\n",
      "3       10000+    2044\n",
      "0        10/49    1466\n",
      "2    1000-4999    1399\n",
      "7          <10    1360\n",
      "5      500-999     902\n",
      "6    5000-9999     591\n",
      "__________________________________________________\n",
      "  company_size    target\n",
      "0        10/49  0.134379\n",
      "6    5000-9999  0.125212\n",
      "3       10000+  0.120841\n",
      "5      500-999  0.116408\n",
      "2    1000-4999  0.109364\n",
      "7          <10  0.107353\n",
      "1      100-500  0.103781\n",
      "4        50-99  0.100321\n"
     ]
    }
   ],
   "source": [
    "print(train_df[['company_size', 'target']].groupby(['company_size'], as_index=False).count()\\\n",
    "      .sort_values(by='target', ascending=False))\n",
    "print('_'*50)\n",
    "print(train_df[['company_size', 'target']].groupby(['company_size'], as_index=False).mean()\\\n",
    "      .sort_values(by='target', ascending=False))"
   ]
  },
  {
   "cell_type": "markdown",
   "metadata": {},
   "source": [
    "**Conclusion** = Here all the categories shows more or less similar score for mean target value. This indicates very less correlation"
   ]
  },
  {
   "cell_type": "markdown",
   "metadata": {},
   "source": [
    "### company_type"
   ]
  },
  {
   "cell_type": "code",
   "execution_count": 332,
   "metadata": {},
   "outputs": [
    {
     "name": "stdout",
     "output_type": "stream",
     "text": [
      "          company_type  target\n",
      "5              Pvt Ltd   10051\n",
      "1       Funded Startup    1038\n",
      "4        Public Sector     996\n",
      "0  Early Stage Startup     582\n",
      "2                  NGO     534\n",
      "3                Other     119\n",
      "__________________________________________________\n",
      "          company_type    target\n",
      "3                Other  0.159664\n",
      "4        Public Sector  0.152610\n",
      "2                  NGO  0.129213\n",
      "0  Early Stage Startup  0.127148\n",
      "5              Pvt Ltd  0.109143\n",
      "1       Funded Startup  0.092486\n"
     ]
    }
   ],
   "source": [
    "print(train_df[['company_type', 'target']].groupby(['company_type'], as_index=False).count()\\\n",
    "      .sort_values(by='target', ascending=False))\n",
    "print('_'*50)\n",
    "print(train_df[['company_type', 'target']].groupby(['company_type'], as_index=False).mean()\\\n",
    "      .sort_values(by='target', ascending=False))"
   ]
  },
  {
   "cell_type": "markdown",
   "metadata": {},
   "source": [
    "**Conclusion**= Here there is a slightly positive correlation between 'company_type' and target"
   ]
  },
  {
   "cell_type": "markdown",
   "metadata": {},
   "source": [
    "###  last_new_job"
   ]
  },
  {
   "cell_type": "code",
   "execution_count": 333,
   "metadata": {},
   "outputs": [
    {
     "name": "stdout",
     "output_type": "stream",
     "text": [
      "  last_new_job  target\n",
      "0            1    7567\n",
      "4           >4    3339\n",
      "1            2    2835\n",
      "5        never    2186\n",
      "3            4    1038\n",
      "2            3    1027\n",
      "__________________________________________________\n",
      "  last_new_job    target\n",
      "5        never  0.141812\n",
      "3            4  0.141618\n",
      "1            2  0.137213\n",
      "0            1  0.134532\n",
      "2            3  0.126582\n",
      "4           >4  0.108116\n"
     ]
    }
   ],
   "source": [
    "print(train_df[['last_new_job', 'target']].groupby(['last_new_job'], as_index=False).count()\\\n",
    "      .sort_values(by='target', ascending=False))\n",
    "print('_'*50)\n",
    "print(train_df[['last_new_job', 'target']].groupby(['last_new_job'], as_index=False).mean()\\\n",
    "      .sort_values(by='target', ascending=False))"
   ]
  },
  {
   "cell_type": "markdown",
   "metadata": {},
   "source": [
    "**Conclusion**= There is almost no correlation here"
   ]
  },
  {
   "cell_type": "markdown",
   "metadata": {},
   "source": [
    "### city"
   ]
  },
  {
   "cell_type": "code",
   "execution_count": 334,
   "metadata": {},
   "outputs": [
    {
     "data": {
      "image/png": "[encoded data removed]",
      "text/plain": [
       "<matplotlib.figure.Figure at 0x14be630>"
      ]
     },
     "metadata": {},
     "output_type": "display_data"
    },
    {
     "name": "stdout",
     "output_type": "stream",
     "text": [
      "         city  mean_target_values\n",
      "32   city_139            0.750000\n",
      "73    city_33            0.538462\n",
      "54   city_171            0.500000\n",
      "84    city_48            0.333333\n",
      "39   city_145            0.297297\n",
      "86    city_53            0.296296\n",
      "88    city_55            0.285714\n",
      "40   city_146            0.285714\n",
      "107   city_79            0.285714\n",
      "80    city_43            0.285714\n"
     ]
    }
   ],
   "source": [
    "plt.figure(figsize=(20,5))\n",
    "\n",
    "city_df = pd.DataFrame({'city':train_df['city'],'mean_target_values':train_df['target']})\n",
    "city = city_df.groupby('city', as_index=False).mean().\\\n",
    "sort_values(by='mean_target_values',ascending=False)\n",
    "\n",
    "sns.barplot(x = city['city'].values, y=city['mean_target_values'].values)\n",
    "plt.xticks(rotation='vertical')\n",
    "plt.xlabel('city')\n",
    "plt.ylabel('mean_target_values')\n",
    "plt.show()\n",
    "print(city.head(10))"
   ]
  },
  {
   "cell_type": "markdown",
   "metadata": {},
   "source": [
    "**Conclusion**= City feature certainly shows a highly positive correlation but I need to label these values later"
   ]
  },
  {
   "cell_type": "markdown",
   "metadata": {},
   "source": [
    "## 3. Data Wrangling"
   ]
  },
  {
   "cell_type": "markdown",
   "metadata": {},
   "source": [
    "Let's list our tasks for this part of our model:\n",
    "\n",
    "*Note: Every action in this part must be taken in both training as well test data*\n",
    "\n",
    "-  removing Enrollee ID \n",
    "-  replacing missing values in gender by 'Female'/'Other' for our first approach\n",
    "-  replacing missing values in 'enrolled_university', 'enrolled_university.1', 'major_discipline', 'experience', 'company_size', company_type', 'last_new_job' these features\n",
    "\n",
    "-  labeling all the values of city,  relevent_experience,  enrolled_university,  enrolled_university.1, major_discipline,  company_type, company_size, last_new_job features\n",
    "-  labeling by first converting into ordinal values of the experience feature\n",
    "-  grouping and then labeling numerical features training_hours and city_dev_index\n"
   ]
  },
  {
   "cell_type": "code",
   "execution_count": 335,
   "metadata": {},
   "outputs": [],
   "source": [
    "train_df = train_df.drop('enrollee_id', axis=1)\n",
    "test_df = test_df.drop('enrollee_id', axis=1)"
   ]
  },
  {
   "cell_type": "code",
   "execution_count": 336,
   "metadata": {},
   "outputs": [],
   "source": [
    "train_df.fillna('Other', inplace=True)\n",
    "train_df['gender'] = train_df['gender'].map({'Male':0, 'Female':1, 'Other':1}).astype(int)\n",
    "test_df.fillna('Other', inplace=True)\n",
    "test_df['gender'] = test_df['gender'].map({'Male':0, 'Female':1, 'Other':1}).astype(int)"
   ]
  },
  {
   "cell_type": "code",
   "execution_count": 337,
   "metadata": {},
   "outputs": [
    {
     "name": "stdout",
     "output_type": "stream",
     "text": [
      "[0 1]\n",
      "[1 0]\n"
     ]
    }
   ],
   "source": [
    "print(train_df.gender.unique())\n",
    "print(test_df.gender.unique())"
   ]
  },
  {
   "cell_type": "code",
   "execution_count": 338,
   "metadata": {},
   "outputs": [],
   "source": [
    "dict_ = {}\n",
    "for i in range(21):\n",
    "    dict_[str(i)] = int(i)\n",
    "dict_['>20'] = 21\n",
    "dict_['<1'] = 0\n",
    "dict_['Other'] = 1.5\n",
    "train_df['experience'] = train_df['experience'].map(dict_)\n",
    "test_df['experience'] = test_df['experience'].map(dict_)"
   ]
  },
  {
   "cell_type": "code",
   "execution_count": 339,
   "metadata": {},
   "outputs": [
    {
     "name": "stdout",
     "output_type": "stream",
     "text": [
      "[ 3.  14.   6.   8.  21.   4.   9.  15.  10.   1.   5.  16.  11.  12.\n",
      "  7.   2.  13.   0.  19.  18.  17.   1.5 20. ]\n",
      "[ 0.  21.   3.   6.   7.   9.  18.   2.  10.  14.  16.   5.  19.  17.\n",
      "  4.   8.  12.  13.  20.  15.   1.  11.   1.5]\n"
     ]
    }
   ],
   "source": [
    "print(train_df.experience.unique())\n",
    "print(test_df.experience.unique())"
   ]
  },
  {
   "cell_type": "code",
   "execution_count": 340,
   "metadata": {},
   "outputs": [],
   "source": [
    "train_df['exp_band'] = pd.cut(train_df['experience'], 5)"
   ]
  },
  {
   "cell_type": "code",
   "execution_count": 341,
   "metadata": {},
   "outputs": [
    {
     "data": {
      "text/plain": [
       "[(-0.021, 4.2], (12.6, 16.8], (4.2, 8.4], (16.8, 21.0], (8.4, 12.6]]\n",
       "Categories (5, interval[float64]): [(-0.021, 4.2] < (4.2, 8.4] < (8.4, 12.6] < (12.6, 16.8] < (16.8, 21.0]]"
      ]
     },
     "execution_count": 341,
     "metadata": {},
     "output_type": "execute_result"
    }
   ],
   "source": [
    "train_df.exp_band.unique()"
   ]
  },
  {
   "cell_type": "code",
   "execution_count": 342,
   "metadata": {},
   "outputs": [],
   "source": [
    "train_df.loc[ train_df['experience'] <= 4, 'experience'] = 0\n",
    "train_df.loc[(train_df['experience'] > 4) & (train_df['experience'] <= 8), 'experience'] = 1\n",
    "train_df.loc[(train_df['experience'] > 8) & (train_df['experience'] <= 12), 'experience'] = 2\n",
    "train_df.loc[(train_df['experience'] > 12) & (train_df['experience'] <= 16), 'experience'] = 3\n",
    "train_df.loc[(train_df['experience'] > 16) & (train_df['experience'] <= 21), 'experience'] = 4\n",
    "train_df.drop('exp_band',axis=1, inplace=True)"
   ]
  },
  {
   "cell_type": "code",
   "execution_count": 343,
   "metadata": {},
   "outputs": [],
   "source": [
    "test_df.loc[ test_df['experience'] <= 4, 'experience'] = 0\n",
    "test_df.loc[(test_df['experience'] > 4) & (test_df['experience'] <= 8), 'experience'] = 1\n",
    "test_df.loc[(test_df['experience'] > 8) & (test_df['experience'] <= 12), 'experience'] = 2\n",
    "test_df.loc[(test_df['experience'] > 12) & (test_df['experience'] <= 16), 'experience'] = 3\n",
    "test_df.loc[(test_df['experience'] > 16) & (test_df['experience'] <= 21), 'experience'] = 4"
   ]
  },
  {
   "cell_type": "code",
   "execution_count": 344,
   "metadata": {},
   "outputs": [
    {
     "data": {
      "text/html": [
       "<div>\n",
       "<style scoped>\n",
       "    .dataframe tbody tr th:only-of-type {\n",
       "        vertical-align: middle;\n",
       "    }\n",
       "\n",
       "    .dataframe tbody tr th {\n",
       "        vertical-align: top;\n",
       "    }\n",
       "\n",
       "    .dataframe thead th {\n",
       "        text-align: right;\n",
       "    }\n",
       "</style>\n",
       "<table border=\"1\" class=\"dataframe\">\n",
       "  <thead>\n",
       "    <tr style=\"text-align: right;\">\n",
       "      <th></th>\n",
       "      <th>city</th>\n",
       "      <th>city_development_index</th>\n",
       "      <th>gender</th>\n",
       "      <th>relevent_experience</th>\n",
       "      <th>enrolled_university</th>\n",
       "      <th>enrolled_university.1</th>\n",
       "      <th>major_discipline</th>\n",
       "      <th>experience</th>\n",
       "      <th>company_size</th>\n",
       "      <th>company_type</th>\n",
       "      <th>last_new_job</th>\n",
       "      <th>training_hours</th>\n",
       "      <th>target</th>\n",
       "    </tr>\n",
       "  </thead>\n",
       "  <tbody>\n",
       "    <tr>\n",
       "      <th>0</th>\n",
       "      <td>city_149</td>\n",
       "      <td>0.689</td>\n",
       "      <td>0</td>\n",
       "      <td>Has relevent experience</td>\n",
       "      <td>no_enrollment</td>\n",
       "      <td>Graduate</td>\n",
       "      <td>STEM</td>\n",
       "      <td>0.0</td>\n",
       "      <td>100-500</td>\n",
       "      <td>Pvt Ltd</td>\n",
       "      <td>1</td>\n",
       "      <td>106</td>\n",
       "      <td>0</td>\n",
       "    </tr>\n",
       "    <tr>\n",
       "      <th>1</th>\n",
       "      <td>city_83</td>\n",
       "      <td>0.923</td>\n",
       "      <td>0</td>\n",
       "      <td>Has relevent experience</td>\n",
       "      <td>no_enrollment</td>\n",
       "      <td>Graduate</td>\n",
       "      <td>STEM</td>\n",
       "      <td>3.0</td>\n",
       "      <td>&lt;10</td>\n",
       "      <td>Funded Startup</td>\n",
       "      <td>1</td>\n",
       "      <td>69</td>\n",
       "      <td>0</td>\n",
       "    </tr>\n",
       "    <tr>\n",
       "      <th>2</th>\n",
       "      <td>city_16</td>\n",
       "      <td>0.910</td>\n",
       "      <td>1</td>\n",
       "      <td>Has relevent experience</td>\n",
       "      <td>no_enrollment</td>\n",
       "      <td>Graduate</td>\n",
       "      <td>STEM</td>\n",
       "      <td>1.0</td>\n",
       "      <td>50-99</td>\n",
       "      <td>Public Sector</td>\n",
       "      <td>2</td>\n",
       "      <td>4</td>\n",
       "      <td>0</td>\n",
       "    </tr>\n",
       "    <tr>\n",
       "      <th>3</th>\n",
       "      <td>city_64</td>\n",
       "      <td>0.666</td>\n",
       "      <td>0</td>\n",
       "      <td>Has relevent experience</td>\n",
       "      <td>no_enrollment</td>\n",
       "      <td>Graduate</td>\n",
       "      <td>STEM</td>\n",
       "      <td>3.0</td>\n",
       "      <td>50-99</td>\n",
       "      <td>Pvt Ltd</td>\n",
       "      <td>1</td>\n",
       "      <td>26</td>\n",
       "      <td>0</td>\n",
       "    </tr>\n",
       "    <tr>\n",
       "      <th>4</th>\n",
       "      <td>city_100</td>\n",
       "      <td>0.887</td>\n",
       "      <td>1</td>\n",
       "      <td>No relevent experience</td>\n",
       "      <td>no_enrollment</td>\n",
       "      <td>Masters</td>\n",
       "      <td>STEM</td>\n",
       "      <td>1.0</td>\n",
       "      <td>Other</td>\n",
       "      <td>Other</td>\n",
       "      <td>2</td>\n",
       "      <td>88</td>\n",
       "      <td>1</td>\n",
       "    </tr>\n",
       "  </tbody>\n",
       "</table>\n",
       "</div>"
      ],
      "text/plain": [
       "       city  city_development_index  gender      relevent_experience  \\\n",
       "0  city_149                   0.689       0  Has relevent experience   \n",
       "1   city_83                   0.923       0  Has relevent experience   \n",
       "2   city_16                   0.910       1  Has relevent experience   \n",
       "3   city_64                   0.666       0  Has relevent experience   \n",
       "4  city_100                   0.887       1   No relevent experience   \n",
       "\n",
       "  enrolled_university enrolled_university.1 major_discipline  experience  \\\n",
       "0       no_enrollment              Graduate             STEM         0.0   \n",
       "1       no_enrollment              Graduate             STEM         3.0   \n",
       "2       no_enrollment              Graduate             STEM         1.0   \n",
       "3       no_enrollment              Graduate             STEM         3.0   \n",
       "4       no_enrollment               Masters             STEM         1.0   \n",
       "\n",
       "  company_size    company_type last_new_job  training_hours  target  \n",
       "0      100-500         Pvt Ltd            1             106       0  \n",
       "1          <10  Funded Startup            1              69       0  \n",
       "2        50-99   Public Sector            2               4       0  \n",
       "3        50-99         Pvt Ltd            1              26       0  \n",
       "4        Other           Other            2              88       1  "
      ]
     },
     "execution_count": 344,
     "metadata": {},
     "output_type": "execute_result"
    }
   ],
   "source": [
    "train_df.head()"
   ]
  },
  {
   "cell_type": "code",
   "execution_count": 345,
   "metadata": {},
   "outputs": [
    {
     "data": {
      "text/plain": [
       "array(['Pvt Ltd', 'Funded Startup', 'Public Sector', 'Other',\n",
       "       'Early Stage Startup', 'NGO'], dtype=object)"
      ]
     },
     "execution_count": 345,
     "metadata": {},
     "output_type": "execute_result"
    }
   ],
   "source": [
    "train_df.company_type.unique()"
   ]
  },
  {
   "cell_type": "code",
   "execution_count": 346,
   "metadata": {},
   "outputs": [],
   "source": [
    "combine = [train_df, test_df] #should have done this before :P\n",
    "le = LabelEncoder()"
   ]
  },
  {
   "cell_type": "code",
   "execution_count": 347,
   "metadata": {},
   "outputs": [
    {
     "data": {
      "text/plain": [
       "array(['city', 'city_development_index', 'gender', 'relevent_experience',\n",
       "       'enrolled_university', 'enrolled_university.1', 'major_discipline',\n",
       "       'experience', 'company_size', 'company_type', 'last_new_job',\n",
       "       'training_hours', 'target'], dtype=object)"
      ]
     },
     "execution_count": 347,
     "metadata": {},
     "output_type": "execute_result"
    }
   ],
   "source": [
    "train_df.columns.values"
   ]
  },
  {
   "cell_type": "code",
   "execution_count": 348,
   "metadata": {},
   "outputs": [
    {
     "name": "stdout",
     "output_type": "stream",
     "text": [
      "Labels of relevent_experience = [0 1]\n",
      "Labels of enrolled_university = [3 0 2 1]\n",
      "Labels of enrolled_university.1 = [0 2 1 4 3 5]\n",
      "Labels of major_discipline = [5 4 3 1 0 2]\n",
      "Labels of company_size = [1 7 4 8 6 3 2 5 0]\n",
      "Labels of company_type = [5 1 4 3 0 2]\n",
      "Labels of last_new_job = [0 1 2 4 6 3 5]\n",
      "Labels of city = [ 41 112  48  93   2  64  13   5 120  49  94 116 103  30  47  95  70   1\n",
      " 101 104   6  69  71  91 122  78  36 115  15  24 102  96   0  57  77  21\n",
      "  43  51 114  74  81  83  82  29 118  60  50 113  31  55  61  99  46  65\n",
      "   4   7 117  11  26  89  63  33  75  14  85  53  18  37  22 105   3  42\n",
      "  58   9  56  40 121  52  17  25  23  66 110  68  32 119  98  39  45  12\n",
      " 106 109  73  97 100  80  38  76  90  84  27  20  35  79  16  88  87 108\n",
      "  92  86   8  44  28  54  62  19  59 107  72  10  67 111  34]\n"
     ]
    }
   ],
   "source": [
    "# for dataset in combine:\n",
    "#     dataset['company_type'] = dataset['company_type'].map({'Pvt Ltd':0, 'Funded Startup':1, 'Public Sector':2, 'Other':3,\n",
    "#        'Early Stage Startup':4, 'NGO':5}).astype(int)\n",
    "\n",
    "#above method of mapping can also be used but it is tidious\n",
    "f_list = ['relevent_experience','enrolled_university', 'enrolled_university.1', 'major_discipline',\\\n",
    "          'company_size', 'company_type', 'last_new_job','city']\n",
    "for dataset in combine:\n",
    "    for feature in f_list:\n",
    "        dataset[str(feature)] = le.fit_transform(dataset[str(feature)]) \n",
    "\n",
    "for feature in f_list: \n",
    "    print('Labels of {} = {}'.format(feature, train_df[feature].unique()) )"
   ]
  },
  {
   "cell_type": "code",
   "execution_count": 349,
   "metadata": {},
   "outputs": [],
   "source": [
    "for dataset in combine:\n",
    "    dataset['city_development_index'] = pd.cut(dataset['city_development_index'], 5)\n",
    "    dataset['city_development_index'] = le.fit_transform(dataset['city_development_index'])"
   ]
  },
  {
   "cell_type": "code",
   "execution_count": 350,
   "metadata": {},
   "outputs": [
    {
     "name": "stdout",
     "output_type": "stream",
     "text": [
      "Labels of city_dev_index = [2 4 1 3 0]\n"
     ]
    }
   ],
   "source": [
    "print('Labels of city_dev_index = {}'.format(train_df['city_development_index'].unique()) )"
   ]
  },
  {
   "cell_type": "code",
   "execution_count": 351,
   "metadata": {},
   "outputs": [],
   "source": [
    "for dataset in combine:\n",
    "    dataset['training_hours'] = pd.cut(dataset['training_hours'], 12)\n",
    "    dataset['training_hours'] = le.fit_transform(dataset['training_hours'])"
   ]
  },
  {
   "cell_type": "code",
   "execution_count": 352,
   "metadata": {},
   "outputs": [
    {
     "name": "stdout",
     "output_type": "stream",
     "text": [
      "Labels of tr_hrs = [ 3  2  0  1 10  4  9  5  6  7 11  8]\n"
     ]
    }
   ],
   "source": [
    "print('Labels of tr_hrs = {}'.format(train_df['training_hours'].unique()) )"
   ]
  },
  {
   "cell_type": "code",
   "execution_count": 353,
   "metadata": {},
   "outputs": [],
   "source": [
    "for dataset in combine:\n",
    "    dataset['experience'] = pd.cut(dataset['experience'], 7)\n",
    "    dataset['experience'] = le.fit_transform(dataset['experience'])"
   ]
  },
  {
   "cell_type": "code",
   "execution_count": 354,
   "metadata": {},
   "outputs": [
    {
     "name": "stdout",
     "output_type": "stream",
     "text": [
      "Labels of experience = [0 3 1 4 2]\n"
     ]
    }
   ],
   "source": [
    "print('Labels of experience = {}'.format(train_df['experience'].unique()) )"
   ]
  },
  {
   "cell_type": "markdown",
   "metadata": {},
   "source": [
    "## Machine Learning Model \n",
    "This is the final step where now I will train a model according to our dataset which is of 'Supervised-Classification' type. Also some additional things which should be considered are as follows:\n",
    "-  The features like training_hours, last_new_job, major_discipline, company_size have almost no correlation with our target so we can do an analysis with dropping these features\n",
    "-  'experience' needs to be labelled manually by grouping them according to higher mean value of target (which is just random now)\n",
    "-  'city' need to be labelled properly by grouping higher mean target value variables together in some small no of groups around 7-8"
   ]
  },
  {
   "cell_type": "code",
   "execution_count": 356,
   "metadata": {},
   "outputs": [],
   "source": [
    "test_size = 0.25\n",
    "seed = 7\n",
    "score='accuracy'"
   ]
  },
  {
   "cell_type": "code",
   "execution_count": 359,
   "metadata": {},
   "outputs": [
    {
     "data": {
      "text/plain": [
       "((13769, 12), (13769,), (4590, 12))"
      ]
     },
     "execution_count": 359,
     "metadata": {},
     "output_type": "execute_result"
    }
   ],
   "source": [
    "X_all = train_df.drop(\"target\", axis=1)\n",
    "y_all = train_df['target']\n",
    "\n",
    "X_train, X_test, y_train, y_test = train_test_split(X_all, y_all, test_size = test_size, random_state= seed)\n",
    "X_train.shape, y_train.shape, X_test.shape"
   ]
  },
  {
   "cell_type": "code",
   "execution_count": 360,
   "metadata": {},
   "outputs": [],
   "source": [
    "#A function for training various classification models on our data\n",
    "def models_C(X_train, y_train, score):\n",
    "    models = []\n",
    "    result = []\n",
    "    \n",
    "    models.append(('RFC', RandomForestClassifier(n_estimators = 100)))\n",
    "    models.append(('GBC', GradientBoostingClassifier(n_estimators = 100)))\n",
    "    models.append(('SVM', SVC()))\n",
    "    models.append(('SGD', SGDClassifier()))\n",
    "    models.append(('LR', LogisticRegression()))\n",
    "    models.append(('DT', DecisionTreeClassifier()))\n",
    "    models.append(('KNC', KNeighborsClassifier()))\n",
    "    models.append(('GNB', GaussianNB()))\n",
    "    models.append(('Per', Perceptron()))\n",
    "    models.append(('LDA', LinearDiscriminantAnalysis()))\n",
    "        \n",
    "    for name, model in models:\n",
    "        kfold = model_selection.KFold(n_splits = 10, random_state=seed)\n",
    "        cv_score = cross_val_score(model, X_train_s, y_train, cv=kfold, scoring=score)\n",
    "        \n",
    "        result.append((name, cv_score.mean(), cv_score.std()))\n",
    "    return result\n"
   ]
  },
  {
   "cell_type": "code",
   "execution_count": null,
   "metadata": {},
   "outputs": [],
   "source": [
    "models_C(X_train, y_train, score)"
   ]
  }
 ],
 "metadata": {
  "kernelspec": {
   "display_name": "Python 3",
   "language": "python",
   "name": "python3"
  },
  "language_info": {
   "codemirror_mode": {
    "name": "ipython",
    "version": 3
   },
   "file_extension": ".py",
   "mimetype": "text/x-python",
   "name": "python",
   "nbconvert_exporter": "python",
   "pygments_lexer": "ipython3",
   "version": "3.6.3"
  }
 },
 "nbformat": 4,
 "nbformat_minor": 2
}
